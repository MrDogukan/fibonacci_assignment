{
  "nbformat": 4,
  "nbformat_minor": 0,
  "metadata": {
    "colab": {
      "name": "ilkders.ipynb",
      "provenance": [],
      "collapsed_sections": []
    },
    "kernelspec": {
      "name": "python3",
      "display_name": "Python 3"
    },
    "language_info": {
      "name": "python"
    }
  },
  "cells": [
    {
      "cell_type": "code",
      "metadata": {
        "colab": {
          "base_uri": "https://localhost:8080/"
        },
        "id": "7ZBBOfKHvxok",
        "outputId": "8c617959-43ec-416d-ed49-d80a022599ab"
      },
      "source": [
        "fiblist = []\n",
        "n1 = 0\n",
        "n2 = 1\n",
        "nson =0\n",
        "while nson < 55 :\n",
        "  nson = n1 + n2\n",
        "  n1 = n2\n",
        "  n2 = nson\n",
        "  fiblist.append(nson)\n",
        "print(fiblist)\n"
      ],
      "execution_count": 7,
      "outputs": [
        {
          "output_type": "stream",
          "text": [
            "[1, 2, 3, 5, 8, 13, 21, 34, 55]\n"
          ],
          "name": "stdout"
        }
      ]
    }
  ]
}